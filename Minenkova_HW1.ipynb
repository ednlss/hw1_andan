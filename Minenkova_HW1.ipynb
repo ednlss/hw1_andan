{
 "cells": [
  {
   "cell_type": "markdown",
   "metadata": {},
   "source": [
    "Миненкова Мария, БСЦ214, ДЗ1"
   ]
  },
  {
   "cell_type": "markdown",
   "metadata": {},
   "source": [
    "# Часть 1. Типы данных"
   ]
  },
  {
   "cell_type": "markdown",
   "metadata": {},
   "source": [
    "## Задание 1. Средний балл (списки)\n",
    "Обратимся к нужным элементам списка и с помощью f-строки оформим ответ."
   ]
  },
  {
   "cell_type": "code",
   "execution_count": 1,
   "metadata": {},
   "outputs": [
    {
     "name": "stdout",
     "output_type": "stream",
     "text": [
      "Студент: Питонов, Иван\n",
      "Возраст студента: 19\n",
      "Оценки студента: 8, 7, 7, 9, 6\n",
      "Средний балл студента: 7.4\n",
      "Повышенная стипендия: False\n"
     ]
    }
   ],
   "source": [
    "## 1. Средний балл (списки) - 1 балл (по 0.2 за каждый пункт)\n",
    "\n",
    "# Дан список `student = ['Иван Питонов', 2001, [8, 7, 7, 9, 6], True]`. Выполните пункты ниже. \n",
    "# Все выводы должны быть в формате \"Средний балл студента: {средний балл}\"\n",
    "\n",
    "# 1. Выведите фамилию и имя Ивана в формате \"Студент: {Фамилия}, {Имя}\"\n",
    "# 2. Выведите возраст Ивана, если сейчас 2020 год.\n",
    "# 3. Напечатайте оценки Ивана через запятую.\n",
    "# 4. Найдите средний балл Ивана, если оценки хранятся в списке внутри. Сумму элементов списка можно найти с помощью функции sum(). Выведите средний балл.\n",
    "# 5. Если средняя оценка Ивана больше или равна 8, то он получает повышенную стипендию. Выведите True или False.\n",
    "\n",
    "student = ['Иван Питонов', 2001, [8, 7, 7, 9, 6], True]\n",
    "print(f'Студент: {student[0].split()[1]}, {student[0].split()[0]}')\n",
    "print(f'Возраст студента: {2020 - student[1]}')\n",
    "marks = ', '.join(map(str, student[2]))\n",
    "print(f'Оценки студента: {marks}')\n",
    "print(f'Средний балл студента: {sum(student[2])/len(student[2])}')\n",
    "print(f'Повышенная стипендия: {True if sum(student[2])/len(student[2]) >= 8 else False}')"
   ]
  },
  {
   "cell_type": "markdown",
   "metadata": {},
   "source": [
    "## Задание 2. Вложенные словари\n",
    "Обратимся к нужному элементу словаря dict_of_lists по ключу, затем к нужному элементу списка в значении по ключу Windows."
   ]
  },
  {
   "cell_type": "code",
   "execution_count": 2,
   "metadata": {},
   "outputs": [
    {
     "name": "stdout",
     "output_type": "stream",
     "text": [
      "разработчик\n"
     ]
    }
   ],
   "source": [
    "# Вам дан словарь, содержащий в себе списки словарей. \n",
    "# Напишите код, который выведет на экран 'разработчик' из списка ключа Windows в в первом словаре из списка 2.\n",
    "\n",
    "dict_of_lists = {'Список1': [{'Python': 'язык программирования'}, {'R':'язык программирования', 'LaTEX' : 'язык верстки' }],\n",
    "                 'Список2' : [{'Windows' : ['операционная система', 'разработчик'], 'UNIX' : 'операционная система'},\n",
    "                              {'IBM': ['компания-производитель', 'разработчик'], 'IPv6' : 'интернет-протокол' }]}\n",
    "\n",
    "\n",
    "print(dict_of_lists['Список2'][0]['Windows'][1])"
   ]
  },
  {
   "cell_type": "markdown",
   "metadata": {},
   "source": [
    "## Задание 3. Станция метро\n",
    "Первой строкой оформим введение, затем с помощью условий пропишем варианты вывода: сначала случай, что введена последняя станция, затем - случай, когда введена не последняя (ищем индекс списка, затем выводим следующую станцию). Наконец, оформим случай, когда ввод неправильный."
   ]
  },
  {
   "cell_type": "code",
   "execution_count": 7,
   "metadata": {},
   "outputs": [
    {
     "name": "stdout",
     "output_type": "stream",
     "text": [
      "Следующая станция: Марксистская\n"
     ]
    }
   ],
   "source": [
    "# Дан список станций желтой ветки московского метро (упорядочены как на карте):\n",
    "\n",
    "# line = [\"Третьяковская\", \"Марксистская\", \"Площадь Ильича\", \"Авиамоторная\", \"Шоссе Энтузиастов\", \"Перово\", \"Новогиреево\", \"Новокосино\"]`\n",
    "\n",
    "# Давайте считать, что движение происходит от Третьяковской до Новокосино.\n",
    "# Напишите программу, которая запрашивает у пользователя название текущей станции метро \n",
    "# (без лишнего пробела на конце) и выводит на экран сообщение вида\n",
    "#     Следующая станция: станция.\n",
    "# Считайте, что пользователь будет запрашивать станцию следующую после Новокосино, то будет выводиться сообщение: *Конечная, покиньте вагон\"\n",
    "# Пример:\n",
    "# Входные данные:\n",
    "\n",
    "#     Введите текущую станцию: Площадь Ильича\n",
    "# Выходные данные:\n",
    "#     Следующая станция: Авиамоторная\n",
    "\n",
    "# Подсказка:\n",
    "# Чтобы вернуть индекс определенного элемента в списке, нужно воспользоваться методом .index().\n",
    "\n",
    "current_station = input('Введите текущую станцию: ')\n",
    "line = [\"Третьяковская\", \"Марксистская\", \"Площадь Ильича\", \"Авиамоторная\", \"Шоссе Энтузиастов\", \"Перово\", \"Новогиреево\", \"Новокосино\"]\n",
    "if current_station == line[-1]:\n",
    "    print('Конечная, покиньте вагон')\n",
    "elif current_station in line:\n",
    "    index = line.index(current_station)\n",
    "    print(f'Следующая станция: {line[index + 1]}')\n",
    "else:\n",
    "    print('Станция не найдена. Проверьте ввод.')\n"
   ]
  },
  {
   "cell_type": "markdown",
   "metadata": {},
   "source": [
    "## Задание 4. Срезы списков\n",
    "С помощью срезов списка выведем нужные элементы - [a:b] выводит элементы от a до b-1, [a:b:c] выводит элемеенты от a до b-1 с шагом c, если мы пишем отрицательный шаг, то элементы выводятся в обратном порядке."
   ]
  },
  {
   "cell_type": "code",
   "execution_count": 3,
   "metadata": {},
   "outputs": [
    {
     "name": "stdout",
     "output_type": "stream",
     "text": [
      "['Двалин', 'Бифур', 'Бофур']\n",
      "['Балин', 'Бифур', 'Бомбур', 'Глоин', 'Нори', 'Фили', 'Торин']\n",
      "['Оин', 'Дори', 'Ори', 'Кили']\n",
      "['Торин', 'Фили', 'Нори', 'Глоин']\n",
      "['Торин']\n"
     ]
    }
   ],
   "source": [
    "# Используя список `dwarves`, выведите на экран с помощью срезов следующие списки:\n",
    "\n",
    "#     [\"Двалин\", \"Бифур\", \"Бофур\"]\n",
    "#     [\"Балин\", \"Бифур\", \"Бомбур\", \"Глоин\", \"Нори\", \"Фили\", \"Торин\"]\n",
    "#     [\"Оин\", \"Дори\", \"Ори\", \"Кили\"]\n",
    "#     [\"Торин\", \"Фили\", \"Нори\", \"Глоин\"]\n",
    "#     [\"Торин\"]\n",
    "\n",
    "dwarves = [\"Балин\", \"Двалин\", \"Бифур\", \"Бофур\", \n",
    "         \"Бомбур\", \"Оин\", \"Глоин\", \"Дори\", \"Нори\",\n",
    "         \"Ори\", \"Фили\", \"Кили\", \"Торин\"]\n",
    " \n",
    "print(dwarves[1:4])\n",
    "print(dwarves[0:13:2])\n",
    "print(dwarves[5:13:2])\n",
    "print(dwarves[-1:-8:-2])\n",
    "print(dwarves[12:13])\n"
   ]
  },
  {
   "cell_type": "markdown",
   "metadata": {},
   "source": [
    "# Часть 2. Условный оператор и циклы"
   ]
  },
  {
   "cell_type": "markdown",
   "metadata": {},
   "source": [
    "## Задание 5. Развернуть число\n",
    "\n",
    "Получим на вход число, объявим переменную reversed_number, затем запустим цикл до тех пор, пока число не станет равным 0. Внутри цикла выведем остаток от деления на 10, а затем прибавим его к переменной reversed_number, умноженной на 10 и будем повторять цикл. После окончания, собственно, выведем переменную reversed_number с помощью f-строки."
   ]
  },
  {
   "cell_type": "code",
   "execution_count": 9,
   "metadata": {},
   "outputs": [
    {
     "name": "stdout",
     "output_type": "stream",
     "text": [
      "Развернутое число: 987654321\n"
     ]
    }
   ],
   "source": [
    "# Вам на вход подается произвольное целое число. \"Разверните\" его, не используя преобразование к строке.\n",
    "\n",
    "# Hint: нужно использовать операторы деления для получения остатка и целого числа, что мы с вами проходили.\n",
    "\n",
    "# Пример:\n",
    "    \n",
    "#     Вход: 12345890\n",
    "#     Выход: 9854321\n",
    "\n",
    "number = int(input('Введите число: '))\n",
    "reversed_number = 0\n",
    "while number > 0:\n",
    "    last_digit = number % 10     \n",
    "    reversed_number = reversed_number * 10 + last_digit  \n",
    "    number = number // 10 \n",
    "\n",
    "print(f'Развернутое число: {reversed_number}')"
   ]
  },
  {
   "cell_type": "markdown",
   "metadata": {},
   "source": [
    "## Задание 6. Треугольник\n",
    "Получаем число N, затем запускаем цикл с N итераций, который выводит элементы списка натуральных чисел от 1 до номера текущей итерации через пробел и пропускает строку на каждой итерации."
   ]
  },
  {
   "cell_type": "code",
   "execution_count": 10,
   "metadata": {},
   "outputs": [
    {
     "name": "stdout",
     "output_type": "stream",
     "text": [
      "1\n",
      "\n",
      "1 2\n",
      "\n",
      "1 2 3\n",
      "\n",
      "1 2 3 4\n",
      "\n",
      "1 2 3 4 5\n",
      "\n"
     ]
    }
   ],
   "source": [
    "# На вход принимается число N.\n",
    "\n",
    "# Выведите на печать следующий паттерн:\n",
    "\n",
    "# 1\n",
    "\n",
    "# 1 2\n",
    "\n",
    "# 1 2 3\n",
    "\n",
    "# 1 2 3 4\n",
    "\n",
    "# ...\n",
    "\n",
    "# 1 ... N\n",
    "\n",
    "number = int(input('Введите число: '))\n",
    "for i in range(1, number + 1):\n",
    "    print(' '.join(map(str, list(range(1, i + 1)))))\n",
    "    print()\n",
    "\n"
   ]
  },
  {
   "cell_type": "markdown",
   "metadata": {},
   "source": [
    "## Задание 7. Поросенок Петр\n",
    "Вводим число, заводим переменные для координат, затем запускаем цикл для поросенка длиной в n итераций. В каждом цикле мы:\n",
    "\n",
    "1. Считываем комманду списком, где элементы это число и направление. Если ввод некорректный -- оповещаем об этом и ждем корректный.\n",
    "2. В зависимости от направления изменяем координаты на число шагов (прописываем условия).\n",
    "\n",
    "В конце выводим с помощью f-строки, в скольких шагах от начала координат находится поросенок.\n"
   ]
  },
  {
   "cell_type": "code",
   "execution_count": 11,
   "metadata": {},
   "outputs": [
    {
     "name": "stdout",
     "output_type": "stream",
     "text": [
      "Пётр находится на расстоянии 1 от (0,0)\n"
     ]
    }
   ],
   "source": [
    "# На плоскости в точке (0,0) стоит Поросёнок Пётр. Он умеет ходить налево, направо, вверх и вниз. \n",
    "# Расстояние его прохода в какую-либо сторону измеряется в шагах. \n",
    "# Когда он идет вправо, его первая координата увеличивается, когда влево - уменьшается. \n",
    "# Когда он идет вверх, его вторая координата увеличивается, а когда вниз - уменьшается. \n",
    "\n",
    "# С клавиатуры считывается число N - число ходов, которые сделает Пётр. \n",
    "# После чего на каждом шаге спрашивается, сколько шагов и в какую сторону за этот ход Пётр сделает. \n",
    "# Так происходит, пока Пётр не осуществит все N ходов.\n",
    "\n",
    "# Программа должна вывести, сколько шагов Пётр должен был бы сделать, чтобы кратчайшим путем прибыть из свое начальной точки (0,0) \n",
    "# в свою конечную точку. Напоминание: Пётр умеет ходить только вверх-вниз, и влево-вправо, но не по диагонали.\n",
    "\n",
    "# Пример ввода: \n",
    "\n",
    "#     Введите N: 3\n",
    "#     Ход 1: Вверх 1\n",
    "#     Ход 2: Вниз 1\n",
    "#     Ход 3: Вверх 1\n",
    "    \n",
    "# Пример вывода:\n",
    "\n",
    "#     Пётр находится на расстоянии 1 от (0,0)\n",
    "\n",
    "number = int(input('Введите N: '))\n",
    "x = 0\n",
    "y = 0\n",
    "for i in range(1, number + 1):\n",
    "    command = input(f'Ход {i}: ').split()\n",
    "    if len(command) != 2 or not command[1].isdigit():\n",
    "        print('Некорректный ввод. Укажите направление и число шагов.')\n",
    "        continue\n",
    "\n",
    "    direction = command[0]\n",
    "    steps = int(command[1])\n",
    "\n",
    "    if direction == 'Вверх':\n",
    "        x += steps\n",
    "    elif direction == 'Вниз':\n",
    "        x -= steps\n",
    "    elif direction == 'Вправо':     \n",
    "        y += steps\n",
    "    elif direction == 'Влево':\n",
    "        y -= steps\n",
    "    else:\n",
    "        print('Некорректный направление')\n",
    "print(f'Пётр находится на расстоянии {abs(x) + abs(y)} от (0,0)')\n",
    "\n",
    "\n"
   ]
  },
  {
   "cell_type": "markdown",
   "metadata": {},
   "source": [
    "## Задание 8. Объединение словарей\n",
    "\n",
    "Объявляем функцию count_goods: она выводит словарь, где ключи - названия товаров, а значения - количество товаров. Для этого она считывает список shops и словари из него. В каждом словаре она считает количество товаров и добавляет их в словарь по ключу названия товаров. Если такого товара еще не было -- она добавляет его в словарь. В конце мы выводим словарь."
   ]
  },
  {
   "cell_type": "code",
   "execution_count": 12,
   "metadata": {},
   "outputs": [
    {
     "name": "stdout",
     "output_type": "stream",
     "text": [
      "{'яблоки': 1150, 'конфеты': 300}\n"
     ]
    }
   ],
   "source": [
    "# Напишите программу, которая подсчитывает значения из произвольного списка словарей следующего вида.\n",
    "# Ввод:\n",
    "#     shops = [{'товар': 'яблоки', 'количество': 400}, {'товар': 'конфеты', 'количество': 300}, {'товар': 'яблоки', 'количество': 750}]\n",
    "# Вывод:\n",
    "#     {'яблоки': 1150, 'конфеты': 300}\n",
    "\n",
    "shops = [{'товар': 'яблоки', 'количество': 400},\n",
    "         {'товар': 'конфеты', 'количество': 300}, \n",
    "         {'товар': 'яблоки', 'количество': 750}]\n",
    "\n",
    "def count_goods(shops):\n",
    "    result = {}\n",
    "    for shop in shops:\n",
    "        for key, value in shop.items():\n",
    "            if key == 'товар':\n",
    "                if value in result:\n",
    "                    result[value] += shop['количество']\n",
    "                else:\n",
    "                    result[value] = shop['количество']\n",
    "    return result\n",
    "\n",
    "print(count_goods(shops))"
   ]
  },
  {
   "cell_type": "markdown",
   "metadata": {},
   "source": [
    "# Часть 3. Pandas"
   ]
  },
  {
   "cell_type": "markdown",
   "metadata": {},
   "source": [
    "## Блок 1. Разминка"
   ]
  },
  {
   "cell_type": "code",
   "execution_count": 5,
   "metadata": {},
   "outputs": [],
   "source": [
    "import pandas as pd\n"
   ]
  },
  {
   "cell_type": "code",
   "execution_count": 6,
   "metadata": {},
   "outputs": [
    {
     "data": {
      "text/html": [
       "<div>\n",
       "<style scoped>\n",
       "    .dataframe tbody tr th:only-of-type {\n",
       "        vertical-align: middle;\n",
       "    }\n",
       "\n",
       "    .dataframe tbody tr th {\n",
       "        vertical-align: top;\n",
       "    }\n",
       "\n",
       "    .dataframe thead th {\n",
       "        text-align: right;\n",
       "    }\n",
       "</style>\n",
       "<table border=\"1\" class=\"dataframe\">\n",
       "  <thead>\n",
       "    <tr style=\"text-align: right;\">\n",
       "      <th></th>\n",
       "      <th>name</th>\n",
       "      <th>sex</th>\n",
       "      <th>number</th>\n",
       "      <th>year</th>\n",
       "    </tr>\n",
       "  </thead>\n",
       "  <tbody>\n",
       "    <tr>\n",
       "      <th>0</th>\n",
       "      <td>Mary</td>\n",
       "      <td>F</td>\n",
       "      <td>7065</td>\n",
       "      <td>1880</td>\n",
       "    </tr>\n",
       "    <tr>\n",
       "      <th>1</th>\n",
       "      <td>Anna</td>\n",
       "      <td>F</td>\n",
       "      <td>2604</td>\n",
       "      <td>1880</td>\n",
       "    </tr>\n",
       "    <tr>\n",
       "      <th>2</th>\n",
       "      <td>Emma</td>\n",
       "      <td>F</td>\n",
       "      <td>2003</td>\n",
       "      <td>1880</td>\n",
       "    </tr>\n",
       "    <tr>\n",
       "      <th>3</th>\n",
       "      <td>Elizabeth</td>\n",
       "      <td>F</td>\n",
       "      <td>1939</td>\n",
       "      <td>1880</td>\n",
       "    </tr>\n",
       "    <tr>\n",
       "      <th>4</th>\n",
       "      <td>Minnie</td>\n",
       "      <td>F</td>\n",
       "      <td>1746</td>\n",
       "      <td>1880</td>\n",
       "    </tr>\n",
       "  </tbody>\n",
       "</table>\n",
       "</div>"
      ],
      "text/plain": [
       "        name sex  number  year\n",
       "0       Mary   F    7065  1880\n",
       "1       Anna   F    2604  1880\n",
       "2       Emma   F    2003  1880\n",
       "3  Elizabeth   F    1939  1880\n",
       "4     Minnie   F    1746  1880"
      ]
     },
     "execution_count": 6,
     "metadata": {},
     "output_type": "execute_result"
    }
   ],
   "source": [
    "babies = pd.read_csv('https://raw.githubusercontent.com/pileyan/Data/master/data/babies%20names/babies_all.txt', index_col=0)\n",
    "babies.head()"
   ]
  },
  {
   "cell_type": "markdown",
   "metadata": {},
   "source": [
    "Для выполнения заданий мы используем разные функции обработки датафреймов.\n",
    "1. Выведем список уникальных элементов столбца года с помощью функции unique().\n",
    "2. Выведем элемент столбца с именем под индексом 121 с помощью функции iloc() -- поиск по индексу.\n",
    "3. Создаздим массив из элементов датафрейма с значением Aaron в столбце имя, выведем его длину с помощью функции shape[0], которая обращается к первому элементу кортежа размерности массива.\n",
    "4. Аналогичным образом создадим два массива для мальчиков и девочек, найдем их длину с помощью shape, выведем разницу.\n",
    "5. Выведем длину массива детей, у которых в годе значение 2010 и которые мальчики."
   ]
  },
  {
   "cell_type": "code",
   "execution_count": 7,
   "metadata": {},
   "outputs": [
    {
     "name": "stdout",
     "output_type": "stream",
     "text": [
      "1. Какие годы включает датасет? \n",
      "            \n",
      "      [1880 1881 1882 1883 1884 1885 1886 1887 1888 1889 1890 1891 1892 1893\n",
      " 1894 1895 1896 1897 1898 1899 1900 1901 1902 1903 1904 1905 1906 1907\n",
      " 1908 1909 1910 1911 1912 1913 1914 1915 1916 1917 1918 1919 1920 1921\n",
      " 1922 1923 1924 1925 1926 1927 1928 1929 1930 1931 1932 1933 1934 1935\n",
      " 1936 1937 1938 1939 1940 1941 1942 1943 1944 1945 1946 1947 1948 1949\n",
      " 1950 1951 1952 1953 1954 1955 1956 1957 1958 1959 1960 1961 1962 1963\n",
      " 1964 1965 1966 1967 1968 1969 1970 1971 1972 1973 1974 1975 1976 1977\n",
      " 1978 1979 1980 1981 1982 1983 1984 1985 1986 1987 1988 1989 1990 1991\n",
      " 1992 1993 1994 1995 1996 1997 1998 1999 2000 2001 2002 2003 2004 2005\n",
      " 2006 2007 2008 2009 2010]\n",
      "\n",
      "2. Какое имя в датасете находится по индексом 121? Ответ: Ann\n",
      "3. Cколько всего родилось детей по имени 'Aaron' за все время? Ответ: 212\n",
      "Сколько в датасете девочек по имени John? Ответ: 262\n",
      "4. Насколько больше за все время родилось мальчиков чем девочек? Ответ: -317186\n",
      "5. Cколько мальчиков родилось в 2010? Ответ: 14140\n"
     ]
    }
   ],
   "source": [
    "print(f\"\"\"1. Какие годы включает датасет? \n",
    "            \n",
    "      {babies.year.unique()}\n",
    "\"\"\")\n",
    "\n",
    "\n",
    "print(f\"\"\"2. Какое имя в датасете находится по индексом 121? Ответ: {babies.iloc[121]['name']}\"\"\")\n",
    "\n",
    "print(f\"\"\"3. Cколько всего родилось детей по имени 'Aaron' за все время? Ответ: {babies[babies.name == 'Aaron'].shape[0]}\n",
    "Сколько в датасете девочек по имени John? Ответ: {babies[babies.name == 'John'].shape[0]}\"\"\")\n",
    "\n",
    "print(f\"\"\"4. Насколько больше за все время родилось мальчиков чем девочек? Ответ: {babies[babies.sex == 'M'].shape[0] - babies[babies.sex == 'F'].shape[0]}\"\"\")\n",
    "\n",
    "print(f\"\"\"5. Cколько мальчиков родилось в 2010? Ответ: {babies[(babies.year == 2010) & (babies.sex == 'M')].shape[0]}\"\"\")"
   ]
  },
  {
   "cell_type": "markdown",
   "metadata": {},
   "source": [
    "## Блок 2. Анализ данных"
   ]
  },
  {
   "cell_type": "code",
   "execution_count": 8,
   "metadata": {},
   "outputs": [
    {
     "data": {
      "text/html": [
       "<div>\n",
       "<style scoped>\n",
       "    .dataframe tbody tr th:only-of-type {\n",
       "        vertical-align: middle;\n",
       "    }\n",
       "\n",
       "    .dataframe tbody tr th {\n",
       "        vertical-align: top;\n",
       "    }\n",
       "\n",
       "    .dataframe thead th {\n",
       "        text-align: right;\n",
       "    }\n",
       "</style>\n",
       "<table border=\"1\" class=\"dataframe\">\n",
       "  <thead>\n",
       "    <tr style=\"text-align: right;\">\n",
       "      <th></th>\n",
       "      <th>hotel</th>\n",
       "      <th>is_canceled</th>\n",
       "      <th>lead_time</th>\n",
       "      <th>arrival_date_year</th>\n",
       "      <th>arrival_date_month</th>\n",
       "      <th>arrival_date_week_number</th>\n",
       "      <th>arrival_date_day_of_month</th>\n",
       "      <th>stays_in_weekend_nights</th>\n",
       "      <th>stays_in_week_nights</th>\n",
       "      <th>adults</th>\n",
       "      <th>...</th>\n",
       "      <th>customer_type</th>\n",
       "      <th>adr</th>\n",
       "      <th>required_car_parking_spaces</th>\n",
       "      <th>total_of_special_requests</th>\n",
       "      <th>reservation_status</th>\n",
       "      <th>reservation_status_date</th>\n",
       "      <th>name</th>\n",
       "      <th>email</th>\n",
       "      <th>phone-number</th>\n",
       "      <th>credit_card</th>\n",
       "    </tr>\n",
       "  </thead>\n",
       "  <tbody>\n",
       "    <tr>\n",
       "      <th>0</th>\n",
       "      <td>Resort Hotel</td>\n",
       "      <td>0</td>\n",
       "      <td>342</td>\n",
       "      <td>2015</td>\n",
       "      <td>July</td>\n",
       "      <td>27</td>\n",
       "      <td>1</td>\n",
       "      <td>0</td>\n",
       "      <td>0</td>\n",
       "      <td>2</td>\n",
       "      <td>...</td>\n",
       "      <td>Transient</td>\n",
       "      <td>0.0</td>\n",
       "      <td>0</td>\n",
       "      <td>0</td>\n",
       "      <td>Check-Out</td>\n",
       "      <td>2015-07-01</td>\n",
       "      <td>Ernest Barnes</td>\n",
       "      <td>Ernest.Barnes31@outlook.com</td>\n",
       "      <td>669-792-1661</td>\n",
       "      <td>************4322</td>\n",
       "    </tr>\n",
       "    <tr>\n",
       "      <th>1</th>\n",
       "      <td>Resort Hotel</td>\n",
       "      <td>0</td>\n",
       "      <td>737</td>\n",
       "      <td>2015</td>\n",
       "      <td>July</td>\n",
       "      <td>27</td>\n",
       "      <td>1</td>\n",
       "      <td>0</td>\n",
       "      <td>0</td>\n",
       "      <td>2</td>\n",
       "      <td>...</td>\n",
       "      <td>Transient</td>\n",
       "      <td>0.0</td>\n",
       "      <td>0</td>\n",
       "      <td>0</td>\n",
       "      <td>Check-Out</td>\n",
       "      <td>2015-07-01</td>\n",
       "      <td>Andrea Baker</td>\n",
       "      <td>Andrea_Baker94@aol.com</td>\n",
       "      <td>858-637-6955</td>\n",
       "      <td>************9157</td>\n",
       "    </tr>\n",
       "    <tr>\n",
       "      <th>2</th>\n",
       "      <td>Resort Hotel</td>\n",
       "      <td>0</td>\n",
       "      <td>7</td>\n",
       "      <td>2015</td>\n",
       "      <td>July</td>\n",
       "      <td>27</td>\n",
       "      <td>1</td>\n",
       "      <td>0</td>\n",
       "      <td>1</td>\n",
       "      <td>1</td>\n",
       "      <td>...</td>\n",
       "      <td>Transient</td>\n",
       "      <td>75.0</td>\n",
       "      <td>0</td>\n",
       "      <td>0</td>\n",
       "      <td>Check-Out</td>\n",
       "      <td>2015-07-02</td>\n",
       "      <td>Rebecca Parker</td>\n",
       "      <td>Rebecca_Parker@comcast.net</td>\n",
       "      <td>652-885-2745</td>\n",
       "      <td>************3734</td>\n",
       "    </tr>\n",
       "    <tr>\n",
       "      <th>3</th>\n",
       "      <td>Resort Hotel</td>\n",
       "      <td>0</td>\n",
       "      <td>13</td>\n",
       "      <td>2015</td>\n",
       "      <td>July</td>\n",
       "      <td>27</td>\n",
       "      <td>1</td>\n",
       "      <td>0</td>\n",
       "      <td>1</td>\n",
       "      <td>1</td>\n",
       "      <td>...</td>\n",
       "      <td>Transient</td>\n",
       "      <td>75.0</td>\n",
       "      <td>0</td>\n",
       "      <td>0</td>\n",
       "      <td>Check-Out</td>\n",
       "      <td>2015-07-02</td>\n",
       "      <td>Laura Murray</td>\n",
       "      <td>Laura_M@gmail.com</td>\n",
       "      <td>364-656-8427</td>\n",
       "      <td>************5677</td>\n",
       "    </tr>\n",
       "    <tr>\n",
       "      <th>4</th>\n",
       "      <td>Resort Hotel</td>\n",
       "      <td>0</td>\n",
       "      <td>14</td>\n",
       "      <td>2015</td>\n",
       "      <td>July</td>\n",
       "      <td>27</td>\n",
       "      <td>1</td>\n",
       "      <td>0</td>\n",
       "      <td>2</td>\n",
       "      <td>2</td>\n",
       "      <td>...</td>\n",
       "      <td>Transient</td>\n",
       "      <td>98.0</td>\n",
       "      <td>0</td>\n",
       "      <td>1</td>\n",
       "      <td>Check-Out</td>\n",
       "      <td>2015-07-03</td>\n",
       "      <td>Linda Hines</td>\n",
       "      <td>LHines@verizon.com</td>\n",
       "      <td>713-226-5883</td>\n",
       "      <td>************5498</td>\n",
       "    </tr>\n",
       "  </tbody>\n",
       "</table>\n",
       "<p>5 rows × 36 columns</p>\n",
       "</div>"
      ],
      "text/plain": [
       "          hotel  is_canceled  lead_time  arrival_date_year arrival_date_month  \\\n",
       "0  Resort Hotel            0        342               2015               July   \n",
       "1  Resort Hotel            0        737               2015               July   \n",
       "2  Resort Hotel            0          7               2015               July   \n",
       "3  Resort Hotel            0         13               2015               July   \n",
       "4  Resort Hotel            0         14               2015               July   \n",
       "\n",
       "   arrival_date_week_number  arrival_date_day_of_month  \\\n",
       "0                        27                          1   \n",
       "1                        27                          1   \n",
       "2                        27                          1   \n",
       "3                        27                          1   \n",
       "4                        27                          1   \n",
       "\n",
       "   stays_in_weekend_nights  stays_in_week_nights  adults  ...  customer_type  \\\n",
       "0                        0                     0       2  ...      Transient   \n",
       "1                        0                     0       2  ...      Transient   \n",
       "2                        0                     1       1  ...      Transient   \n",
       "3                        0                     1       1  ...      Transient   \n",
       "4                        0                     2       2  ...      Transient   \n",
       "\n",
       "    adr required_car_parking_spaces total_of_special_requests  \\\n",
       "0   0.0                           0                         0   \n",
       "1   0.0                           0                         0   \n",
       "2  75.0                           0                         0   \n",
       "3  75.0                           0                         0   \n",
       "4  98.0                           0                         1   \n",
       "\n",
       "  reservation_status reservation_status_date            name  \\\n",
       "0          Check-Out              2015-07-01   Ernest Barnes   \n",
       "1          Check-Out              2015-07-01    Andrea Baker   \n",
       "2          Check-Out              2015-07-02  Rebecca Parker   \n",
       "3          Check-Out              2015-07-02    Laura Murray   \n",
       "4          Check-Out              2015-07-03     Linda Hines   \n",
       "\n",
       "                         email  phone-number       credit_card  \n",
       "0  Ernest.Barnes31@outlook.com  669-792-1661  ************4322  \n",
       "1       Andrea_Baker94@aol.com  858-637-6955  ************9157  \n",
       "2   Rebecca_Parker@comcast.net  652-885-2745  ************3734  \n",
       "3            Laura_M@gmail.com  364-656-8427  ************5677  \n",
       "4           LHines@verizon.com  713-226-5883  ************5498  \n",
       "\n",
       "[5 rows x 36 columns]"
      ]
     },
     "execution_count": 8,
     "metadata": {},
     "output_type": "execute_result"
    }
   ],
   "source": [
    "# импорт данных\n",
    "import pandas as pd\n",
    "hotels = pd.read_csv(\"data/hotel_booking_data.csv\")\n",
    "hotels.head()"
   ]
  },
  {
   "cell_type": "markdown",
   "metadata": {},
   "source": [
    "**ЗАДАНИЕ: Сколько строк содержится в этом наборе данных?**\n",
    "\n",
    "Посчитаем количество строк в датафрейма с помощью метода shape, указав индекс 0 (считаем строки, не столбцы)."
   ]
  },
  {
   "cell_type": "code",
   "execution_count": 9,
   "metadata": {},
   "outputs": [
    {
     "name": "stdout",
     "output_type": "stream",
     "text": [
      "Количество строк в датафрейме - 119390\n"
     ]
    }
   ],
   "source": [
    "print(f'Количество строк в датафрейме - {hotels.shape[0]}')"
   ]
  },
  {
   "cell_type": "markdown",
   "metadata": {},
   "source": [
    "**ЗАДАНИЕ: Есть ли отсутствующие (пропущенные) данные? Если да, то в какой колонке их больше всего?**\n",
    "\n",
    "Воспользуемся функцией isnull().sum(), которая посчитает количество пропущенных значений в каждом столбце датафрейма. После этого отсортируем по убыванию. Таким образом, пропущенные данные есть в четырех колонках, больше всего их в колонке идентификатор компании (company)."
   ]
  },
  {
   "cell_type": "code",
   "execution_count": 10,
   "metadata": {},
   "outputs": [
    {
     "name": "stdout",
     "output_type": "stream",
     "text": [
      "company                           112593\n",
      "agent                              16340\n",
      "country                              488\n",
      "children                               4\n",
      "hotel                                  0\n",
      "booking_changes                        0\n",
      "deposit_type                           0\n",
      "days_in_waiting_list                   0\n",
      "customer_type                          0\n",
      "adr                                    0\n",
      "reserved_room_type                     0\n",
      "required_car_parking_spaces            0\n",
      "total_of_special_requests              0\n",
      "reservation_status                     0\n",
      "reservation_status_date                0\n",
      "name                                   0\n",
      "email                                  0\n",
      "phone-number                           0\n",
      "assigned_room_type                     0\n",
      "previous_bookings_not_canceled         0\n",
      "is_canceled                            0\n",
      "previous_cancellations                 0\n",
      "is_repeated_guest                      0\n",
      "distribution_channel                   0\n",
      "market_segment                         0\n",
      "meal                                   0\n",
      "babies                                 0\n",
      "adults                                 0\n",
      "stays_in_week_nights                   0\n",
      "stays_in_weekend_nights                0\n",
      "arrival_date_day_of_month              0\n",
      "arrival_date_week_number               0\n",
      "arrival_date_month                     0\n",
      "arrival_date_year                      0\n",
      "lead_time                              0\n",
      "credit_card                            0\n",
      "dtype: int64\n"
     ]
    }
   ],
   "source": [
    "print(hotels.isnull().sum().sort_values(ascending = False))"
   ]
  },
  {
   "cell_type": "markdown",
   "metadata": {},
   "source": [
    "**ЗАДАНИЕ: Удалите колонку \"company\" из набора данных.**\n",
    "\n",
    "Для этого задания воспользуемся функцией drop() и сохраним изменения в тот же датафрейм. Затем проверим результат с помощью выписывания всех названий колонок с помощью метода columns."
   ]
  },
  {
   "cell_type": "code",
   "execution_count": 11,
   "metadata": {},
   "outputs": [
    {
     "data": {
      "text/plain": [
       "['hotel',\n",
       " 'is_canceled',\n",
       " 'lead_time',\n",
       " 'arrival_date_year',\n",
       " 'arrival_date_month',\n",
       " 'arrival_date_week_number',\n",
       " 'arrival_date_day_of_month',\n",
       " 'stays_in_weekend_nights',\n",
       " 'stays_in_week_nights',\n",
       " 'adults',\n",
       " 'children',\n",
       " 'babies',\n",
       " 'meal',\n",
       " 'country',\n",
       " 'market_segment',\n",
       " 'distribution_channel',\n",
       " 'is_repeated_guest',\n",
       " 'previous_cancellations',\n",
       " 'previous_bookings_not_canceled',\n",
       " 'reserved_room_type',\n",
       " 'assigned_room_type',\n",
       " 'booking_changes',\n",
       " 'deposit_type',\n",
       " 'agent',\n",
       " 'days_in_waiting_list',\n",
       " 'customer_type',\n",
       " 'adr',\n",
       " 'required_car_parking_spaces',\n",
       " 'total_of_special_requests',\n",
       " 'reservation_status',\n",
       " 'reservation_status_date',\n",
       " 'name',\n",
       " 'email',\n",
       " 'phone-number',\n",
       " 'credit_card']"
      ]
     },
     "execution_count": 11,
     "metadata": {},
     "output_type": "execute_result"
    }
   ],
   "source": [
    "hotels.columns.tolist()\n",
    "hotels_without_company = hotels.drop(columns=['company'])\n",
    "hotels_without_company.columns.tolist()\n"
   ]
  },
  {
   "cell_type": "markdown",
   "metadata": {},
   "source": [
    "**ЗАДАНИЕ: Какие 5 стран встречаются в наборе данных наиболее часто?**\n",
    "\n",
    "Выведем топ-5 с помощью value_counts() (подсчитывает значения) и метода head() (выводит первые 5). Таким образом, встречаются в наборе данных наиболее часто: Португалия (PRT), Великобритания (GBR), Франция (FRA), Испания (ESP), Германия (DEU).\n"
   ]
  },
  {
   "cell_type": "code",
   "execution_count": 12,
   "metadata": {},
   "outputs": [
    {
     "data": {
      "text/plain": [
       "country\n",
       "PRT    48590\n",
       "GBR    12129\n",
       "FRA    10415\n",
       "ESP     8568\n",
       "DEU     7287\n",
       "Name: count, dtype: int64"
      ]
     },
     "execution_count": 12,
     "metadata": {},
     "output_type": "execute_result"
    }
   ],
   "source": [
    "hotels.country.value_counts().head()\n"
   ]
  },
  {
   "cell_type": "markdown",
   "metadata": {},
   "source": [
    "** ЗАДАНИЕ: Выведите имя человека, который заплатил наибольшую сумму за одни сутки (ADR - average daily rate)? Какое было значение этого ADR?**\n",
    "\n",
    "Выведем имя человека, который заплатил наибольшую сумму за одни сутки (ADR - average daily rate) и его значение. Сначала отфильтруем датасет по условию, что ADR равен максимальному, и сделаем слайс имени и ADR."
   ]
  },
  {
   "cell_type": "code",
   "execution_count": 13,
   "metadata": {},
   "outputs": [
    {
     "name": "stdout",
     "output_type": "stream",
     "text": [
      "                name     adr\n",
      "48515  Daniel Walter  5400.0\n"
     ]
    }
   ],
   "source": [
    "# **ЗАДАНИЕ: Выведите имя человека, который заплатил наибольшую сумму за одни сутки (ADR - average daily rate)? \n",
    "# Какое было значение этого ADR?**\n",
    "print(hotels[hotels['adr'] == hotels['adr'].max()][['name', 'adr']])"
   ]
  },
  {
   "cell_type": "markdown",
   "metadata": {},
   "source": [
    "**ЗАДАНИЕ: adr это средняя сумма за сутки для одного бронирования. Каково будет среднее значение adr для всех бронирований в этом наборе данных?**\n",
    "\n",
    "Выведем среднее значение adr для всех бронирований в этом наборе данных с помощью метода mean()."
   ]
  },
  {
   "cell_type": "code",
   "execution_count": 14,
   "metadata": {},
   "outputs": [
    {
     "name": "stdout",
     "output_type": "stream",
     "text": [
      "101.83112153446686\n"
     ]
    }
   ],
   "source": [
    "print(hotels['adr'].mean())"
   ]
  },
  {
   "cell_type": "markdown",
   "metadata": {},
   "source": [
    "**ЗАДАНИЕ: Каково среднее (mean) количество ночей, если сделать усреднение по всем бронированиям? Можете округлить до двух знаков после запятой.**\n",
    "\n",
    "\n",
    "Сложим количество ночей, проведенных в выходные (stays_in_weekend_nights) и в будни (stays_in_week_nights) и посчитаем среднее этого столбца с помощью метода mean(). Затем округлим до 2 знаков после запятой после запятой с помощью round()."
   ]
  },
  {
   "cell_type": "code",
   "execution_count": 15,
   "metadata": {},
   "outputs": [
    {
     "name": "stdout",
     "output_type": "stream",
     "text": [
      "3.43\n"
     ]
    }
   ],
   "source": [
    "print(round((hotels['stays_in_week_nights']+hotels['stays_in_weekend_nights']).mean(), 2))"
   ]
  },
  {
   "cell_type": "markdown",
   "metadata": {},
   "source": [
    "**ЗАДАНИЕ: Какова средняя общая сумма бронирования в этом наборе данных? Не *среднее за сутки*, а *среднее за бронирование*. Можете округлить до двух знаков после запятой.**\n",
    "\n",
    "Перемножим цену бронирования за одни сутки на количество суток бронирования и найдем среднее значение, составляющее 357.85, если округлять до двух знаков после запятой.\n",
    "\n"
   ]
  },
  {
   "cell_type": "code",
   "execution_count": 16,
   "metadata": {},
   "outputs": [
    {
     "name": "stdout",
     "output_type": "stream",
     "text": [
      "357.85\n"
     ]
    }
   ],
   "source": [
    "print(round((hotels['adr']*(hotels['stays_in_week_nights']+hotels['stays_in_weekend_nights'])).mean(), 2))"
   ]
  },
  {
   "cell_type": "markdown",
   "metadata": {},
   "source": [
    "**ЗАДАНИЕ: Выведите имена и адреса email тех, кто сделал ровно 5 специальных запросов (\"Special Requests\")?**\n",
    "\n",
    "С помощью метода loc мы можем выбрать нужные нам строки и столбцы, отфильтруем по количество специальных запросов и выведем имя и email, оставив только эти столбцы."
   ]
  },
  {
   "cell_type": "code",
   "execution_count": 17,
   "metadata": {},
   "outputs": [
    {
     "name": "stdout",
     "output_type": "stream",
     "text": [
      "                          name                          email\n",
      "7860             Amanda Harper           Amanda.H66@yahoo.com\n",
      "11125            Laura Sanders      Sanders_Laura@hotmail.com\n",
      "14596              Tommy Ortiz            Tommy_O@hotmail.com\n",
      "14921           Gilbert Miller         Miller.Gilbert@aol.com\n",
      "14922           Timothy Torres         TTorres@protonmail.com\n",
      "24630          Jennifer Weaver             Jennifer_W@aol.com\n",
      "27288           Crystal Horton             Crystal.H@mail.com\n",
      "27477           Brittney Burke       Burke_Brittney16@att.com\n",
      "29906          Cynthia Cabrera    Cabrera.Cynthia@xfinity.com\n",
      "29949              Sarah Floyd              Sarah_F@gmail.com\n",
      "32267           Michelle Villa         Michelle.Villa@aol.com\n",
      "39027           Nichole Hebert       Hebert.Nichole@gmail.com\n",
      "39129         Lindsey Mckenzie       Lindsey.Mckenzie@att.com\n",
      "39525           Ashley Edwards       Edwards.Ashley@yahoo.com\n",
      "70114       Christopher Torres   Torres.Christopher@gmail.com\n",
      "78819   Mrs. Tara Sullivan DVM           Mrs..DVM@xfinity.com\n",
      "78820           Michaela Brown          MichaelaBrown@att.com\n",
      "78822        Kurt Maldonado MD              KMD15@xfinity.com\n",
      "97072         Jason Richardson               Jason.R@zoho.com\n",
      "97099             Terri Hurley            THurley@xfinity.com\n",
      "97261        Mrs. Caitlin Webb             Mrs._W@comcast.net\n",
      "98410             Holly Arroyo          Arroyo_Holly@mail.com\n",
      "98674          Denise Campbell             Denise_C@gmail.com\n",
      "99887            Michael Smith            Michael.S42@aol.com\n",
      "99888       Dr. Trevor Sellers                  Dr._S@aol.com\n",
      "101569            Kayla Murphy         Kayla.Murphy@yahoo.com\n",
      "102061         Taylor Martinez    Taylor.Martinez@hotmail.com\n",
      "109511          Charles Wilson       Charles_Wilson@yahoo.com\n",
      "109590           Tyler Allison         Tyler.A@protonmail.com\n",
      "110082          Matthew Bailey         Matthew_Bailey@aol.com\n",
      "110083       Charlotte Acevedo        Charlotte_A@verizon.com\n",
      "111909         Darrell Brennan  Brennan_Darrell51@hotmail.com\n",
      "111911          Melinda Jensen         MelindaJensen@zoho.com\n",
      "113915            Terry Arnold          Arnold.Terry@zoho.com\n",
      "114770             Mary Nguyen     Nguyen.Mary@protonmail.com\n",
      "114909          Lindsay Cuevas      Lindsay.Cuevas40@mail.com\n",
      "116455       Cynthia Hernandez   CynthiaHernandez@xfinity.com\n",
      "116457          Angela Hawkins             Angela_H@gmail.com\n",
      "118817              Sue Lawson            Sue.L52@comcast.net\n",
      "119161         Alyssa Richards        Alyssa_Richards@aol.com\n"
     ]
    }
   ],
   "source": [
    "print(hotels.loc[hotels['total_of_special_requests'] == 5, ['name', 'email']])"
   ]
  },
  {
   "cell_type": "markdown",
   "metadata": {},
   "source": [
    "**ЗАДАНИЕ: Какой процент бронирований классифицированы как бронирования \"повторными гостями\"? (Для этого не следует использовать имя, воспользуйтесь колонкой is_repeated_guest)**\n",
    "\n",
    "Воспользуемся методом value_counts() для подсчета количества бронирований, классифицированных как повторные гости, и добавим в аргумент normalize = True, чтобы получить процентное соотношение. Таким образом, 3% бронировваний классифицированы как повторные гости."
   ]
  },
  {
   "cell_type": "code",
   "execution_count": 18,
   "metadata": {},
   "outputs": [
    {
     "name": "stdout",
     "output_type": "stream",
     "text": [
      "is_repeated_guest\n",
      "0    0.968088\n",
      "1    0.031912\n",
      "Name: proportion, dtype: float64\n"
     ]
    }
   ],
   "source": [
    "print(hotels.is_repeated_guest.value_counts(normalize = True))"
   ]
  },
  {
   "cell_type": "markdown",
   "metadata": {},
   "source": [
    "**ЗАДАНИЕ: Какие 5 фамилий встречаются в этом наборе данных наиболее часто? Бонусное задание: Можете ли Вы сделать это с помощью одной строки кода в pandas? (Для упрощения задачи можете считать фамилией самое последнее слово в колонке, например для значения \"Caroline Conley MD\" можете в качестве фамилии вывести MD)**\n",
    "\n",
    "Для этого задания мы выбираем колонку с именем, преобразуем ее в строку, разбиваем по пробелу через split(), выбираем последнее слово через  и считаем количество уникальных значений. Затем сортируем по убыванию и выводим первые 5 значений.\n",
    "\n"
   ]
  },
  {
   "cell_type": "code",
   "execution_count": 19,
   "metadata": {},
   "outputs": [
    {
     "name": "stdout",
     "output_type": "stream",
     "text": [
      "name\n",
      "Smith       2503\n",
      "Johnson     1990\n",
      "Williams    1618\n",
      "Jones       1434\n",
      "Brown       1423\n",
      "Name: count, dtype: int64\n"
     ]
    }
   ],
   "source": [
    "print(hotels['name'].str.split().str[-1].value_counts().head(5))"
   ]
  },
  {
   "cell_type": "markdown",
   "metadata": {},
   "source": [
    "**ЗАДАНИЕ: Выведите имена людей, которые бронировали номер для наибольшего количества детей и младенцев? \n",
    "(Отменённые бронирования тоже показывайте, то есть не важно, заехали они по факту в отель или нет - главное, \n",
    "что на момент бронирования номера было указано наибольшее количество детей+младенцев)**\n",
    "\n",
    "С помощью метода loc выведем нужные нам строки и столбцы: по строкам поставим условие, что сумма столбцов количества детей и количества младенцев была максимальной. По столбцам выведем имена людей и заодно количество детей и младенцев (равное, к слову, десяти). "
   ]
  },
  {
   "cell_type": "code",
   "execution_count": 20,
   "metadata": {},
   "outputs": [
    {
     "name": "stdout",
     "output_type": "stream",
     "text": [
      "                  name  children  babies\n",
      "328      Jamie Ramirez      10.0       0\n",
      "46619  Nicholas Parker       0.0      10\n"
     ]
    }
   ],
   "source": [
    "print(hotels.loc[(hotels['children'] + hotels['babies']) == (hotels['children']+hotels['babies']).max(), ['name', 'children', 'babies']])"
   ]
  },
  {
   "cell_type": "markdown",
   "metadata": {},
   "source": [
    "**ЗАДАНИЕ: Какие 3 кода области (это первые три цифры телефона) встречаются в наборе данных наиболее часто?**\n",
    "\n",
    "Выберем из столбца phone-code первые три элемента строки, затем посчитаем для каждой такой комбинации трех чисел количество элементов датафрейма с помощью value_counts и выведем топ-три с помощью head(3)."
   ]
  },
  {
   "cell_type": "code",
   "execution_count": 21,
   "metadata": {},
   "outputs": [
    {
     "name": "stdout",
     "output_type": "stream",
     "text": [
      "phone-number\n",
      "799    168\n",
      "185    167\n",
      "541    166\n",
      "Name: count, dtype: int64\n"
     ]
    }
   ],
   "source": [
    "print(hotels['phone-number'].str[:3].value_counts().head(3))"
   ]
  },
  {
   "cell_type": "markdown",
   "metadata": {},
   "source": [
    "**ЗАДАНИЕ: Сколько людей заселились в отель между 1м и 15м числами месяца (включая 1 и 15)? Бонусное задание: можете ли Вы сделать это с помощью одной строки кода в pandas?**\n",
    "\n",
    "С помощью метода loc аналогично поставим условие по строкам, что день заезда больше или равен 1 и меньше или равен 15, затем оставим только столбец с днем заселения и посчитаем количество строк в датафрейме. В итоге получим 58152 строки."
   ]
  },
  {
   "cell_type": "code",
   "execution_count": 22,
   "metadata": {},
   "outputs": [
    {
     "name": "stdout",
     "output_type": "stream",
     "text": [
      "58152\n"
     ]
    }
   ],
   "source": [
    "print(hotels.loc[(hotels['arrival_date_day_of_month'] >= 1) & (hotels['arrival_date_day_of_month'] <= 15), 'arrival_date_day_of_month'].count())"
   ]
  },
  {
   "cell_type": "markdown",
   "metadata": {},
   "source": [
    "## Дополнительное задание: **Свой собственный Github репрезиторий** (2 балла)\n",
    "\n",
    "***\n",
    "\n",
    "Чтобы получить дополнительные баллы, вам необходимо создать собственный гитхаб репрезиторий, загрузить в него домашнее задание и прикрепить ссылку на него сюда. Можно также прикрепить ссылку мне в личные сообщения вместе с файлом.\n",
    "\n",
    "\n",
    "https://github.com/ednlss/hw1_andan/tree/main\n"
   ]
  }
 ],
 "metadata": {
  "kernelspec": {
   "display_name": ".venv",
   "language": "python",
   "name": "python3"
  },
  "language_info": {
   "codemirror_mode": {
    "name": "ipython",
    "version": 3
   },
   "file_extension": ".py",
   "mimetype": "text/x-python",
   "name": "python",
   "nbconvert_exporter": "python",
   "pygments_lexer": "ipython3",
   "version": "3.9.13"
  }
 },
 "nbformat": 4,
 "nbformat_minor": 2
}
